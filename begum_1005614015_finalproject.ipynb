{
 "cells": [
  {
   "cell_type": "markdown",
   "metadata": {},
   "source": [
    "# Data Mining COVID-19-Project"
   ]
  },
  {
   "cell_type": "markdown",
   "metadata": {},
   "source": [
    "### Introduction (only for reference purpose)"
   ]
  },
  {
   "cell_type": "markdown",
   "metadata": {},
   "source": [
    "COVID-19 is a strain of coronavirus that first broke out in Wuhan, China in December 2019 and has since become a global pandemic"
   ]
  },
  {
   "cell_type": "markdown",
   "metadata": {},
   "source": [
    "The White House Office of Science and Technology Policy (OSTP) pulled together a coalition research groups and companies  to prepare the COVID-19 Open Research Dataset (CORD-19) to attempt to address key open scientific questions on COVID-19.\n",
    "\n",
    "This data-set is a resource of over 45,000 scholarly articles, including over 33,000 with full text, about COVID-19, SARSCoV-2, and related coronaviruses. This freely available dataset is provided to the global research community to apply recent advances in natural language processing and other AI techniques to generate new insights in support of the ongoing fight against this infectious disease. There is a growing urgency for these approaches because of the rapid acceleration in new coronavirus literature, making it difficult for the medical research community to keep up and extract insight\n",
    "from this growing body work."
   ]
  },
  {
   "cell_type": "markdown",
   "metadata": {},
   "source": [
    "#### Possible research questions the data can give insights on\n",
    "1.What is known about transmission, incubation, and environmental stability?<br>\n",
    "(What do we know about natural history, transmission, and diagnostics for the virus? What have we learned about infection    prevention and control?)<br>                                                                                                2.What do we know about COVID-19 risk factors?                                                                      \n",
    "3.What do we know about virus genetics, origin, and evolution?                                                            \n",
    "(What do we know about the virus origin and management measures at the human-animal interface?) <br>                        4.What do we know about non-pharmaceutical interventions?\n",
    "(What is known about equity and barriers to compliance for non-pharmaceutical interventions?)                               5.What do we know about vaccines and therapeutics?<br>                                                                      (What has been published concerning research and development and evaluation efforts of vaccines and therapeutics?)<br>      6.What do we know about diagnostics and surveillance?\n",
    "What has been published concerning systematic, holistic approach to diagnostics (from the public health surveillance    perspective to being able to predict clinical outcomes)?"
   ]
  },
  {
   "cell_type": "markdown",
   "metadata": {},
   "source": [
    "# Aim:.What are possible COVID-19 risk factors and their risk level with respect to COViD-19"
   ]
  },
  {
   "cell_type": "markdown",
   "metadata": {},
   "source": [
    "## 1.Importing required libraries and methods"
   ]
  },
  {
   "cell_type": "code",
   "execution_count": 1061,
   "metadata": {},
   "outputs": [
    {
     "name": "stderr",
     "output_type": "stream",
     "text": [
      "[nltk_data] Downloading package stopwords to\n",
      "[nltk_data]     C:\\Users\\Begum\\AppData\\Roaming\\nltk_data...\n",
      "[nltk_data]   Package stopwords is already up-to-date!\n"
     ]
    }
   ],
   "source": [
    "#Importing necessary packages, functions \n",
    "import pandas as pd\n",
    "import numpy as np\n",
    "import matplotlib.pyplot as plt\n",
    "import random\n",
    "import nltk\n",
    "from nltk.corpus import stopwords\n",
    "from nltk.tokenize import RegexpTokenizer\n",
    "from nltk.stem import PorterStemmer\n",
    "from nltk.stem import WordNetLemmatizer\n",
    "import seaborn as sns\n",
    "from wordcloud import WordCloud\n",
    "import re\n",
    "from bs4 import BeautifulSoup\n",
    "from sklearn.preprocessing import normalize\n",
    "\n",
    "from sklearn.linear_model import LogisticRegression\n",
    "from sklearn.neighbors import KNeighborsClassifier\n",
    "from sklearn.ensemble import RandomForestClassifier\n",
    "from sklearn.tree import DecisionTreeClassifier\n",
    "from sklearn.svm import LinearSVC\n",
    "import xgboost as xgb\n",
    "from sklearn.naive_bayes import GaussianNB\n",
    "from sklearn.model_selection import train_test_split\n",
    "from sklearn.preprocessing import StandardScaler\n",
    "from sklearn.model_selection import KFold\n",
    "from sklearn.metrics import accuracy_score\n",
    "from sklearn.model_selection import RandomizedSearchCV\n",
    "from sklearn import preprocessing \n",
    "from sklearn.feature_extraction.text import CountVectorizer\n",
    "from sklearn.feature_extraction.text import TfidfVectorizer\n",
    "from sklearn.cluster import KMeans\n",
    "from sklearn.metrics import classification_report\n",
    "import scipy.cluster.hierarchy as sch\n",
    "try:\n",
    "    from gensim.models import word2vec\n",
    "except:\n",
    "\n",
    "    from gensim.models import word2vec\n",
    "nltk.download(\"stopwords\")\n",
    "import warnings\n",
    "warnings.filterwarnings(\"ignore\")"
   ]
  },
  {
   "cell_type": "markdown",
   "metadata": {},
   "source": [
    "## 2. Data Cleaning"
   ]
  },
  {
   "cell_type": "markdown",
   "metadata": {},
   "source": [
    "### Importing and cleaning data"
   ]
  },
  {
   "cell_type": "markdown",
   "metadata": {},
   "source": [
    "Before performing any analyses, all text data must be cleaned and prepared for model usage. For this mini project,one set of  data is being used. The dataset is in metadata.csv  which includes 45000 scholarly articles out of which 33000 with full text. "
   ]
  },
  {
   "cell_type": "markdown",
   "metadata": {},
   "source": [
    "### 2.1 Importing Data Sets"
   ]
  },
  {
   "cell_type": "markdown",
   "metadata": {},
   "source": [
    "a.First, covid-19 dataset(metadata.csv) is imported using the read_csv function from pandas.\n"
   ]
  },
  {
   "cell_type": "code",
   "execution_count": 1062,
   "metadata": {},
   "outputs": [
    {
     "name": "stdout",
     "output_type": "stream",
     "text": [
      "<class 'pandas.core.frame.DataFrame'>\n",
      "RangeIndex: 45774 entries, 0 to 45773\n",
      "Data columns (total 17 columns):\n",
      "cord_uid                       45774 non-null object\n",
      "sha                            31753 non-null object\n",
      "source_x                       45774 non-null object\n",
      "title                          45617 non-null object\n",
      "doi                            42440 non-null object\n",
      "pmcid                          26243 non-null object\n",
      "pubmed_id                      34641 non-null float64\n",
      "license                        45774 non-null object\n",
      "abstract                       37913 non-null object\n",
      "publish_time                   45765 non-null object\n",
      "authors                        43774 non-null object\n",
      "journal                        41707 non-null object\n",
      "Microsoft Academic Paper ID    964 non-null float64\n",
      "WHO #Covidence                 1768 non-null object\n",
      "has_full_text                  45774 non-null bool\n",
      "full_text_file                 35558 non-null object\n",
      "url                            45472 non-null object\n",
      "dtypes: bool(1), float64(2), object(14)\n",
      "memory usage: 5.6+ MB\n"
     ]
    },
    {
     "data": {
      "text/html": [
       "<div>\n",
       "<style scoped>\n",
       "    .dataframe tbody tr th:only-of-type {\n",
       "        vertical-align: middle;\n",
       "    }\n",
       "\n",
       "    .dataframe tbody tr th {\n",
       "        vertical-align: top;\n",
       "    }\n",
       "\n",
       "    .dataframe thead th {\n",
       "        text-align: right;\n",
       "    }\n",
       "</style>\n",
       "<table border=\"1\" class=\"dataframe\">\n",
       "  <thead>\n",
       "    <tr style=\"text-align: right;\">\n",
       "      <th></th>\n",
       "      <th>cord_uid</th>\n",
       "      <th>sha</th>\n",
       "      <th>source_x</th>\n",
       "      <th>title</th>\n",
       "      <th>doi</th>\n",
       "      <th>pmcid</th>\n",
       "      <th>pubmed_id</th>\n",
       "      <th>license</th>\n",
       "      <th>abstract</th>\n",
       "      <th>publish_time</th>\n",
       "      <th>authors</th>\n",
       "      <th>journal</th>\n",
       "      <th>Microsoft Academic Paper ID</th>\n",
       "      <th>WHO #Covidence</th>\n",
       "      <th>has_full_text</th>\n",
       "      <th>full_text_file</th>\n",
       "      <th>url</th>\n",
       "    </tr>\n",
       "  </thead>\n",
       "  <tbody>\n",
       "    <tr>\n",
       "      <th>0</th>\n",
       "      <td>vho70jcx</td>\n",
       "      <td>f056da9c64fbf00a4645ae326e8a4339d015d155</td>\n",
       "      <td>biorxiv</td>\n",
       "      <td>SIANN: Strain Identification by Alignment to N...</td>\n",
       "      <td>10.1101/001727</td>\n",
       "      <td>NaN</td>\n",
       "      <td>NaN</td>\n",
       "      <td>biorxiv</td>\n",
       "      <td>Next-generation sequencing is increasingly bei...</td>\n",
       "      <td>2014-01-10</td>\n",
       "      <td>Samuel Minot; Stephen D Turner; Krista L Ternu...</td>\n",
       "      <td>NaN</td>\n",
       "      <td>NaN</td>\n",
       "      <td>NaN</td>\n",
       "      <td>True</td>\n",
       "      <td>biorxiv_medrxiv</td>\n",
       "      <td>https://doi.org/10.1101/001727</td>\n",
       "    </tr>\n",
       "    <tr>\n",
       "      <th>1</th>\n",
       "      <td>i9tbix2v</td>\n",
       "      <td>daf32e013d325a6feb80e83d15aabc64a48fae33</td>\n",
       "      <td>biorxiv</td>\n",
       "      <td>Spatial epidemiology of networked metapopulati...</td>\n",
       "      <td>10.1101/003889</td>\n",
       "      <td>NaN</td>\n",
       "      <td>NaN</td>\n",
       "      <td>biorxiv</td>\n",
       "      <td>An emerging disease is one infectious epidemic...</td>\n",
       "      <td>2014-06-04</td>\n",
       "      <td>Lin WANG; Xiang Li</td>\n",
       "      <td>NaN</td>\n",
       "      <td>NaN</td>\n",
       "      <td>NaN</td>\n",
       "      <td>True</td>\n",
       "      <td>biorxiv_medrxiv</td>\n",
       "      <td>https://doi.org/10.1101/003889</td>\n",
       "    </tr>\n",
       "    <tr>\n",
       "      <th>2</th>\n",
       "      <td>62gfisc6</td>\n",
       "      <td>f33c6d94b0efaa198f8f3f20e644625fa3fe10d2</td>\n",
       "      <td>biorxiv</td>\n",
       "      <td>Sequencing of the human IG light chain loci fr...</td>\n",
       "      <td>10.1101/006866</td>\n",
       "      <td>NaN</td>\n",
       "      <td>NaN</td>\n",
       "      <td>biorxiv</td>\n",
       "      <td>Germline variation at immunoglobulin gene (IG)...</td>\n",
       "      <td>2014-07-03</td>\n",
       "      <td>Corey T Watson; Karyn Meltz Steinberg; Tina A ...</td>\n",
       "      <td>NaN</td>\n",
       "      <td>NaN</td>\n",
       "      <td>NaN</td>\n",
       "      <td>True</td>\n",
       "      <td>biorxiv_medrxiv</td>\n",
       "      <td>https://doi.org/10.1101/006866</td>\n",
       "    </tr>\n",
       "    <tr>\n",
       "      <th>3</th>\n",
       "      <td>058r9486</td>\n",
       "      <td>4da8a87e614373d56070ed272487451266dce919</td>\n",
       "      <td>biorxiv</td>\n",
       "      <td>Bayesian mixture analysis for metagenomic comm...</td>\n",
       "      <td>10.1101/007476</td>\n",
       "      <td>NaN</td>\n",
       "      <td>NaN</td>\n",
       "      <td>biorxiv</td>\n",
       "      <td>Deep sequencing of clinical samples is now an ...</td>\n",
       "      <td>2014-07-25</td>\n",
       "      <td>Sofia Morfopoulou; Vincent Plagnol</td>\n",
       "      <td>NaN</td>\n",
       "      <td>NaN</td>\n",
       "      <td>NaN</td>\n",
       "      <td>True</td>\n",
       "      <td>biorxiv_medrxiv</td>\n",
       "      <td>https://doi.org/10.1101/007476</td>\n",
       "    </tr>\n",
       "    <tr>\n",
       "      <th>4</th>\n",
       "      <td>wich35l7</td>\n",
       "      <td>eccef80cfbe078235df22398f195d5db462d8000</td>\n",
       "      <td>biorxiv</td>\n",
       "      <td>Mapping a viral phylogeny onto outbreak trees ...</td>\n",
       "      <td>10.1101/010389</td>\n",
       "      <td>NaN</td>\n",
       "      <td>NaN</td>\n",
       "      <td>biorxiv</td>\n",
       "      <td>Developing methods to reconstruct transmission...</td>\n",
       "      <td>2014-11-11</td>\n",
       "      <td>Stephen P Velsko; Jonathan E Allen</td>\n",
       "      <td>NaN</td>\n",
       "      <td>NaN</td>\n",
       "      <td>NaN</td>\n",
       "      <td>True</td>\n",
       "      <td>biorxiv_medrxiv</td>\n",
       "      <td>https://doi.org/10.1101/010389</td>\n",
       "    </tr>\n",
       "  </tbody>\n",
       "</table>\n",
       "</div>"
      ],
      "text/plain": [
       "   cord_uid                                       sha source_x  \\\n",
       "0  vho70jcx  f056da9c64fbf00a4645ae326e8a4339d015d155  biorxiv   \n",
       "1  i9tbix2v  daf32e013d325a6feb80e83d15aabc64a48fae33  biorxiv   \n",
       "2  62gfisc6  f33c6d94b0efaa198f8f3f20e644625fa3fe10d2  biorxiv   \n",
       "3  058r9486  4da8a87e614373d56070ed272487451266dce919  biorxiv   \n",
       "4  wich35l7  eccef80cfbe078235df22398f195d5db462d8000  biorxiv   \n",
       "\n",
       "                                               title             doi pmcid  \\\n",
       "0  SIANN: Strain Identification by Alignment to N...  10.1101/001727   NaN   \n",
       "1  Spatial epidemiology of networked metapopulati...  10.1101/003889   NaN   \n",
       "2  Sequencing of the human IG light chain loci fr...  10.1101/006866   NaN   \n",
       "3  Bayesian mixture analysis for metagenomic comm...  10.1101/007476   NaN   \n",
       "4  Mapping a viral phylogeny onto outbreak trees ...  10.1101/010389   NaN   \n",
       "\n",
       "   pubmed_id  license                                           abstract  \\\n",
       "0        NaN  biorxiv  Next-generation sequencing is increasingly bei...   \n",
       "1        NaN  biorxiv  An emerging disease is one infectious epidemic...   \n",
       "2        NaN  biorxiv  Germline variation at immunoglobulin gene (IG)...   \n",
       "3        NaN  biorxiv  Deep sequencing of clinical samples is now an ...   \n",
       "4        NaN  biorxiv  Developing methods to reconstruct transmission...   \n",
       "\n",
       "  publish_time                                            authors journal  \\\n",
       "0   2014-01-10  Samuel Minot; Stephen D Turner; Krista L Ternu...     NaN   \n",
       "1   2014-06-04                                 Lin WANG; Xiang Li     NaN   \n",
       "2   2014-07-03  Corey T Watson; Karyn Meltz Steinberg; Tina A ...     NaN   \n",
       "3   2014-07-25                 Sofia Morfopoulou; Vincent Plagnol     NaN   \n",
       "4   2014-11-11                 Stephen P Velsko; Jonathan E Allen     NaN   \n",
       "\n",
       "   Microsoft Academic Paper ID WHO #Covidence  has_full_text   full_text_file  \\\n",
       "0                          NaN            NaN           True  biorxiv_medrxiv   \n",
       "1                          NaN            NaN           True  biorxiv_medrxiv   \n",
       "2                          NaN            NaN           True  biorxiv_medrxiv   \n",
       "3                          NaN            NaN           True  biorxiv_medrxiv   \n",
       "4                          NaN            NaN           True  biorxiv_medrxiv   \n",
       "\n",
       "                              url  \n",
       "0  https://doi.org/10.1101/001727  \n",
       "1  https://doi.org/10.1101/003889  \n",
       "2  https://doi.org/10.1101/006866  \n",
       "3  https://doi.org/10.1101/007476  \n",
       "4  https://doi.org/10.1101/010389  "
      ]
     },
     "execution_count": 1062,
     "metadata": {},
     "output_type": "execute_result"
    }
   ],
   "source": [
    "# complete overview of the data#\n",
    "df = pd.read_csv('metadata.csv')\n",
    "df.info(verbose=True)\n",
    "df.head()"
   ]
  },
  {
   "cell_type": "code",
   "execution_count": 1063,
   "metadata": {},
   "outputs": [],
   "source": [
    "#Importing dataset with required features\n",
    "df=pd.read_csv('metadata.csv', usecols=['title','abstract','authors','publish_time'])"
   ]
  },
  {
   "cell_type": "code",
   "execution_count": 1064,
   "metadata": {},
   "outputs": [
    {
     "data": {
      "text/html": [
       "<div>\n",
       "<style scoped>\n",
       "    .dataframe tbody tr th:only-of-type {\n",
       "        vertical-align: middle;\n",
       "    }\n",
       "\n",
       "    .dataframe tbody tr th {\n",
       "        vertical-align: top;\n",
       "    }\n",
       "\n",
       "    .dataframe thead th {\n",
       "        text-align: right;\n",
       "    }\n",
       "</style>\n",
       "<table border=\"1\" class=\"dataframe\">\n",
       "  <thead>\n",
       "    <tr style=\"text-align: right;\">\n",
       "      <th></th>\n",
       "      <th>title</th>\n",
       "      <th>abstract</th>\n",
       "      <th>publish_time</th>\n",
       "      <th>authors</th>\n",
       "    </tr>\n",
       "  </thead>\n",
       "  <tbody>\n",
       "    <tr>\n",
       "      <th>0</th>\n",
       "      <td>SIANN: Strain Identification by Alignment to N...</td>\n",
       "      <td>Next-generation sequencing is increasingly bei...</td>\n",
       "      <td>2014-01-10</td>\n",
       "      <td>Samuel Minot; Stephen D Turner; Krista L Ternu...</td>\n",
       "    </tr>\n",
       "    <tr>\n",
       "      <th>1</th>\n",
       "      <td>Spatial epidemiology of networked metapopulati...</td>\n",
       "      <td>An emerging disease is one infectious epidemic...</td>\n",
       "      <td>2014-06-04</td>\n",
       "      <td>Lin WANG; Xiang Li</td>\n",
       "    </tr>\n",
       "    <tr>\n",
       "      <th>2</th>\n",
       "      <td>Sequencing of the human IG light chain loci fr...</td>\n",
       "      <td>Germline variation at immunoglobulin gene (IG)...</td>\n",
       "      <td>2014-07-03</td>\n",
       "      <td>Corey T Watson; Karyn Meltz Steinberg; Tina A ...</td>\n",
       "    </tr>\n",
       "    <tr>\n",
       "      <th>3</th>\n",
       "      <td>Bayesian mixture analysis for metagenomic comm...</td>\n",
       "      <td>Deep sequencing of clinical samples is now an ...</td>\n",
       "      <td>2014-07-25</td>\n",
       "      <td>Sofia Morfopoulou; Vincent Plagnol</td>\n",
       "    </tr>\n",
       "    <tr>\n",
       "      <th>4</th>\n",
       "      <td>Mapping a viral phylogeny onto outbreak trees ...</td>\n",
       "      <td>Developing methods to reconstruct transmission...</td>\n",
       "      <td>2014-11-11</td>\n",
       "      <td>Stephen P Velsko; Jonathan E Allen</td>\n",
       "    </tr>\n",
       "  </tbody>\n",
       "</table>\n",
       "</div>"
      ],
      "text/plain": [
       "                                               title  \\\n",
       "0  SIANN: Strain Identification by Alignment to N...   \n",
       "1  Spatial epidemiology of networked metapopulati...   \n",
       "2  Sequencing of the human IG light chain loci fr...   \n",
       "3  Bayesian mixture analysis for metagenomic comm...   \n",
       "4  Mapping a viral phylogeny onto outbreak trees ...   \n",
       "\n",
       "                                            abstract publish_time  \\\n",
       "0  Next-generation sequencing is increasingly bei...   2014-01-10   \n",
       "1  An emerging disease is one infectious epidemic...   2014-06-04   \n",
       "2  Germline variation at immunoglobulin gene (IG)...   2014-07-03   \n",
       "3  Deep sequencing of clinical samples is now an ...   2014-07-25   \n",
       "4  Developing methods to reconstruct transmission...   2014-11-11   \n",
       "\n",
       "                                             authors  \n",
       "0  Samuel Minot; Stephen D Turner; Krista L Ternu...  \n",
       "1                                 Lin WANG; Xiang Li  \n",
       "2  Corey T Watson; Karyn Meltz Steinberg; Tina A ...  \n",
       "3                 Sofia Morfopoulou; Vincent Plagnol  \n",
       "4                 Stephen P Velsko; Jonathan E Allen  "
      ]
     },
     "execution_count": 1064,
     "metadata": {},
     "output_type": "execute_result"
    }
   ],
   "source": [
    "# Previewing the  dataset.\n",
    "df.head()"
   ]
  },
  {
   "cell_type": "code",
   "execution_count": 1065,
   "metadata": {},
   "outputs": [
    {
     "data": {
      "text/plain": [
       "(45774, 4)"
      ]
     },
     "execution_count": 1065,
     "metadata": {},
     "output_type": "execute_result"
    }
   ],
   "source": [
    "#understanding dimensions#\n",
    "df.shape"
   ]
  },
  {
   "cell_type": "markdown",
   "metadata": {},
   "source": [
    "b.From the above 5 rows we can observe some data cleaning requirements.                                                 "
   ]
  },
  {
   "cell_type": "code",
   "execution_count": 1066,
   "metadata": {},
   "outputs": [
    {
     "data": {
      "text/plain": [
       "title            157\n",
       "abstract        7861\n",
       "publish_time       9\n",
       "authors         2000\n",
       "dtype: int64"
      ]
     },
     "execution_count": 1066,
     "metadata": {},
     "output_type": "execute_result"
    }
   ],
   "source": [
    "#check for nan values\n",
    "df.isnull().sum()"
   ]
  },
  {
   "cell_type": "code",
   "execution_count": 1067,
   "metadata": {},
   "outputs": [
    {
     "data": {
      "text/plain": [
       "<matplotlib.axes._subplots.AxesSubplot at 0x1b9e4b9ca90>"
      ]
     },
     "execution_count": 1067,
     "metadata": {},
     "output_type": "execute_result"
    },
    {
     "data": {
      "image/png": "[encoded data removed]",
      "text/plain": [
       "<Figure size 1080x360 with 1 Axes>"
      ]
     },
     "metadata": {
      "needs_background": "light"
     },
     "output_type": "display_data"
    }
   ],
   "source": [
    "fig, ax = plt.subplots(figsize=(15,5))\n",
    "sns.heatmap(df.isnull(), cmap='coolwarm', yticklabels=False, cbar=False, ax=ax)"
   ]
  },
  {
   "cell_type": "markdown",
   "metadata": {},
   "source": [
    "c.Dropping values that are missing to ease the analysis processs"
   ]
  },
  {
   "cell_type": "code",
   "execution_count": 1068,
   "metadata": {},
   "outputs": [],
   "source": [
    "#drop missing values\n",
    "df = df.dropna()"
   ]
  },
  {
   "cell_type": "code",
   "execution_count": 1069,
   "metadata": {},
   "outputs": [
    {
     "data": {
      "text/plain": [
       "title           0\n",
       "abstract        0\n",
       "publish_time    0\n",
       "authors         0\n",
       "dtype: int64"
      ]
     },
     "execution_count": 1069,
     "metadata": {},
     "output_type": "execute_result"
    }
   ],
   "source": [
    "df.isnull().sum()"
   ]
  },
  {
   "cell_type": "markdown",
   "metadata": {},
   "source": [
    "d.Dropping if any duplicates are in the data"
   ]
  },
  {
   "cell_type": "code",
   "execution_count": 1070,
   "metadata": {},
   "outputs": [],
   "source": [
    "df = df.drop_duplicates(subset='abstract', keep=\"first\")"
   ]
  },
  {
   "cell_type": "code",
   "execution_count": 1071,
   "metadata": {},
   "outputs": [
    {
     "data": {
      "text/plain": [
       "(37252, 4)"
      ]
     },
     "execution_count": 1071,
     "metadata": {},
     "output_type": "execute_result"
    }
   ],
   "source": [
    "#final sahpe of the dataframe\n",
    "df.shape"
   ]
  },
  {
   "cell_type": "code",
   "execution_count": 1072,
   "metadata": {},
   "outputs": [],
   "source": [
    "df=df.reset_index()"
   ]
  },
  {
   "cell_type": "markdown",
   "metadata": {},
   "source": [
    "e.Check the length of the text in abstract to understand if enough information is available"
   ]
  },
  {
   "cell_type": "code",
   "execution_count": 1073,
   "metadata": {},
   "outputs": [],
   "source": [
    "df['pre_clean_len'] = [len(str(t)) for t in df.abstract]"
   ]
  },
  {
   "cell_type": "code",
   "execution_count": 1074,
   "metadata": {},
   "outputs": [
    {
     "data": {
      "text/html": [
       "<div>\n",
       "<style scoped>\n",
       "    .dataframe tbody tr th:only-of-type {\n",
       "        vertical-align: middle;\n",
       "    }\n",
       "\n",
       "    .dataframe tbody tr th {\n",
       "        vertical-align: top;\n",
       "    }\n",
       "\n",
       "    .dataframe thead th {\n",
       "        text-align: right;\n",
       "    }\n",
       "</style>\n",
       "<table border=\"1\" class=\"dataframe\">\n",
       "  <thead>\n",
       "    <tr style=\"text-align: right;\">\n",
       "      <th></th>\n",
       "      <th>index</th>\n",
       "      <th>title</th>\n",
       "      <th>abstract</th>\n",
       "      <th>publish_time</th>\n",
       "      <th>authors</th>\n",
       "      <th>pre_clean_len</th>\n",
       "    </tr>\n",
       "  </thead>\n",
       "  <tbody>\n",
       "    <tr>\n",
       "      <th>0</th>\n",
       "      <td>0</td>\n",
       "      <td>SIANN: Strain Identification by Alignment to N...</td>\n",
       "      <td>Next-generation sequencing is increasingly bei...</td>\n",
       "      <td>2014-01-10</td>\n",
       "      <td>Samuel Minot; Stephen D Turner; Krista L Ternu...</td>\n",
       "      <td>1221</td>\n",
       "    </tr>\n",
       "    <tr>\n",
       "      <th>1</th>\n",
       "      <td>1</td>\n",
       "      <td>Spatial epidemiology of networked metapopulati...</td>\n",
       "      <td>An emerging disease is one infectious epidemic...</td>\n",
       "      <td>2014-06-04</td>\n",
       "      <td>Lin WANG; Xiang Li</td>\n",
       "      <td>993</td>\n",
       "    </tr>\n",
       "    <tr>\n",
       "      <th>2</th>\n",
       "      <td>2</td>\n",
       "      <td>Sequencing of the human IG light chain loci fr...</td>\n",
       "      <td>Germline variation at immunoglobulin gene (IG)...</td>\n",
       "      <td>2014-07-03</td>\n",
       "      <td>Corey T Watson; Karyn Meltz Steinberg; Tina A ...</td>\n",
       "      <td>1313</td>\n",
       "    </tr>\n",
       "    <tr>\n",
       "      <th>3</th>\n",
       "      <td>3</td>\n",
       "      <td>Bayesian mixture analysis for metagenomic comm...</td>\n",
       "      <td>Deep sequencing of clinical samples is now an ...</td>\n",
       "      <td>2014-07-25</td>\n",
       "      <td>Sofia Morfopoulou; Vincent Plagnol</td>\n",
       "      <td>1593</td>\n",
       "    </tr>\n",
       "    <tr>\n",
       "      <th>4</th>\n",
       "      <td>4</td>\n",
       "      <td>Mapping a viral phylogeny onto outbreak trees ...</td>\n",
       "      <td>Developing methods to reconstruct transmission...</td>\n",
       "      <td>2014-11-11</td>\n",
       "      <td>Stephen P Velsko; Jonathan E Allen</td>\n",
       "      <td>1584</td>\n",
       "    </tr>\n",
       "  </tbody>\n",
       "</table>\n",
       "</div>"
      ],
      "text/plain": [
       "   index                                              title  \\\n",
       "0      0  SIANN: Strain Identification by Alignment to N...   \n",
       "1      1  Spatial epidemiology of networked metapopulati...   \n",
       "2      2  Sequencing of the human IG light chain loci fr...   \n",
       "3      3  Bayesian mixture analysis for metagenomic comm...   \n",
       "4      4  Mapping a viral phylogeny onto outbreak trees ...   \n",
       "\n",
       "                                            abstract publish_time  \\\n",
       "0  Next-generation sequencing is increasingly bei...   2014-01-10   \n",
       "1  An emerging disease is one infectious epidemic...   2014-06-04   \n",
       "2  Germline variation at immunoglobulin gene (IG)...   2014-07-03   \n",
       "3  Deep sequencing of clinical samples is now an ...   2014-07-25   \n",
       "4  Developing methods to reconstruct transmission...   2014-11-11   \n",
       "\n",
       "                                             authors  pre_clean_len  \n",
       "0  Samuel Minot; Stephen D Turner; Krista L Ternu...           1221  \n",
       "1                                 Lin WANG; Xiang Li            993  \n",
       "2  Corey T Watson; Karyn Meltz Steinberg; Tina A ...           1313  \n",
       "3                 Sofia Morfopoulou; Vincent Plagnol           1593  \n",
       "4                 Stephen P Velsko; Jonathan E Allen           1584  "
      ]
     },
     "execution_count": 1074,
     "metadata": {},
     "output_type": "execute_result"
    }
   ],
   "source": [
    "df.head()"
   ]
  },
  {
   "cell_type": "markdown",
   "metadata": {},
   "source": [
    "### 2.2 Cleaning  dataframe"
   ]
  },
  {
   "cell_type": "markdown",
   "metadata": {},
   "source": [
    "#### 2..1 Converting all text to lower case"
   ]
  },
  {
   "cell_type": "code",
   "execution_count": 1075,
   "metadata": {},
   "outputs": [],
   "source": [
    "#### Function to convert letters of abstract to lowercase\n",
    "def lower_fn(text):\n",
    "    lower_case = str(text).lower()\n",
    "    lower_case=lower_case.replace('abstract', '')\n",
    "    return(lower_case)"
   ]
  },
  {
   "cell_type": "code",
   "execution_count": 1076,
   "metadata": {},
   "outputs": [],
   "source": [
    "#converting all letter to lowercase for abstract\n",
    "df['lower']=df['abstract'].apply(lower_fn)"
   ]
  },
  {
   "cell_type": "code",
   "execution_count": 1077,
   "metadata": {},
   "outputs": [
    {
     "data": {
      "text/html": [
       "<div>\n",
       "<style scoped>\n",
       "    .dataframe tbody tr th:only-of-type {\n",
       "        vertical-align: middle;\n",
       "    }\n",
       "\n",
       "    .dataframe tbody tr th {\n",
       "        vertical-align: top;\n",
       "    }\n",
       "\n",
       "    .dataframe thead th {\n",
       "        text-align: right;\n",
       "    }\n",
       "</style>\n",
       "<table border=\"1\" class=\"dataframe\">\n",
       "  <thead>\n",
       "    <tr style=\"text-align: right;\">\n",
       "      <th></th>\n",
       "      <th>index</th>\n",
       "      <th>title</th>\n",
       "      <th>abstract</th>\n",
       "      <th>publish_time</th>\n",
       "      <th>authors</th>\n",
       "      <th>pre_clean_len</th>\n",
       "      <th>lower</th>\n",
       "    </tr>\n",
       "  </thead>\n",
       "  <tbody>\n",
       "    <tr>\n",
       "      <th>0</th>\n",
       "      <td>0</td>\n",
       "      <td>SIANN: Strain Identification by Alignment to N...</td>\n",
       "      <td>Next-generation sequencing is increasingly bei...</td>\n",
       "      <td>2014-01-10</td>\n",
       "      <td>Samuel Minot; Stephen D Turner; Krista L Ternu...</td>\n",
       "      <td>1221</td>\n",
       "      <td>next-generation sequencing is increasingly bei...</td>\n",
       "    </tr>\n",
       "    <tr>\n",
       "      <th>1</th>\n",
       "      <td>1</td>\n",
       "      <td>Spatial epidemiology of networked metapopulati...</td>\n",
       "      <td>An emerging disease is one infectious epidemic...</td>\n",
       "      <td>2014-06-04</td>\n",
       "      <td>Lin WANG; Xiang Li</td>\n",
       "      <td>993</td>\n",
       "      <td>an emerging disease is one infectious epidemic...</td>\n",
       "    </tr>\n",
       "    <tr>\n",
       "      <th>2</th>\n",
       "      <td>2</td>\n",
       "      <td>Sequencing of the human IG light chain loci fr...</td>\n",
       "      <td>Germline variation at immunoglobulin gene (IG)...</td>\n",
       "      <td>2014-07-03</td>\n",
       "      <td>Corey T Watson; Karyn Meltz Steinberg; Tina A ...</td>\n",
       "      <td>1313</td>\n",
       "      <td>germline variation at immunoglobulin gene (ig)...</td>\n",
       "    </tr>\n",
       "    <tr>\n",
       "      <th>3</th>\n",
       "      <td>3</td>\n",
       "      <td>Bayesian mixture analysis for metagenomic comm...</td>\n",
       "      <td>Deep sequencing of clinical samples is now an ...</td>\n",
       "      <td>2014-07-25</td>\n",
       "      <td>Sofia Morfopoulou; Vincent Plagnol</td>\n",
       "      <td>1593</td>\n",
       "      <td>deep sequencing of clinical samples is now an ...</td>\n",
       "    </tr>\n",
       "    <tr>\n",
       "      <th>4</th>\n",
       "      <td>4</td>\n",
       "      <td>Mapping a viral phylogeny onto outbreak trees ...</td>\n",
       "      <td>Developing methods to reconstruct transmission...</td>\n",
       "      <td>2014-11-11</td>\n",
       "      <td>Stephen P Velsko; Jonathan E Allen</td>\n",
       "      <td>1584</td>\n",
       "      <td>developing methods to reconstruct transmission...</td>\n",
       "    </tr>\n",
       "  </tbody>\n",
       "</table>\n",
       "</div>"
      ],
      "text/plain": [
       "   index                                              title  \\\n",
       "0      0  SIANN: Strain Identification by Alignment to N...   \n",
       "1      1  Spatial epidemiology of networked metapopulati...   \n",
       "2      2  Sequencing of the human IG light chain loci fr...   \n",
       "3      3  Bayesian mixture analysis for metagenomic comm...   \n",
       "4      4  Mapping a viral phylogeny onto outbreak trees ...   \n",
       "\n",
       "                                            abstract publish_time  \\\n",
       "0  Next-generation sequencing is increasingly bei...   2014-01-10   \n",
       "1  An emerging disease is one infectious epidemic...   2014-06-04   \n",
       "2  Germline variation at immunoglobulin gene (IG)...   2014-07-03   \n",
       "3  Deep sequencing of clinical samples is now an ...   2014-07-25   \n",
       "4  Developing methods to reconstruct transmission...   2014-11-11   \n",
       "\n",
       "                                             authors  pre_clean_len  \\\n",
       "0  Samuel Minot; Stephen D Turner; Krista L Ternu...           1221   \n",
       "1                                 Lin WANG; Xiang Li            993   \n",
       "2  Corey T Watson; Karyn Meltz Steinberg; Tina A ...           1313   \n",
       "3                 Sofia Morfopoulou; Vincent Plagnol           1593   \n",
       "4                 Stephen P Velsko; Jonathan E Allen           1584   \n",
       "\n",
       "                                               lower  \n",
       "0  next-generation sequencing is increasingly bei...  \n",
       "1  an emerging disease is one infectious epidemic...  \n",
       "2  germline variation at immunoglobulin gene (ig)...  \n",
       "3  deep sequencing of clinical samples is now an ...  \n",
       "4  developing methods to reconstruct transmission...  "
      ]
     },
     "execution_count": 1077,
     "metadata": {},
     "output_type": "execute_result"
    }
   ],
   "source": [
    "df.head()"
   ]
  },
  {
   "cell_type": "markdown",
   "metadata": {},
   "source": [
    "#### 2.2 Splitting sentences into words using tokenizer (method tokenize)"
   ]
  },
  {
   "cell_type": "code",
   "execution_count": 1078,
   "metadata": {},
   "outputs": [],
   "source": [
    "# Function for Splitting sentences into words using tokens\n",
    "def word_split(clean_html):\n",
    "        tokenizer = RegexpTokenizer(r'\\w+')         \n",
    "        b = tokenizer.tokenize(clean_html)\n",
    "        return(b)"
   ]
  },
  {
   "cell_type": "code",
   "execution_count": 1079,
   "metadata": {},
   "outputs": [],
   "source": [
    "df['token_words']=df['lower'].apply(word_split)"
   ]
  },
  {
   "cell_type": "code",
   "execution_count": 1080,
   "metadata": {},
   "outputs": [
    {
     "data": {
      "text/plain": [
       "0    [next, generation, sequencing, is, increasingl...\n",
       "Name: token_words, dtype: object"
      ]
     },
     "execution_count": 1080,
     "metadata": {},
     "output_type": "execute_result"
    }
   ],
   "source": [
    "df['token_words'].head(1)"
   ]
  },
  {
   "cell_type": "markdown",
   "metadata": {},
   "source": [
    "#### 2.3 Removing stop words and some words that are not required"
   ]
  },
  {
   "cell_type": "code",
   "execution_count": 1081,
   "metadata": {},
   "outputs": [],
   "source": [
    "# Function to removing stop words using the  set(stop_words1 from nltk)\n",
    "stop_words1=set(stopwords.words('english'))\n",
    "list=['abstract','found','method','well']\n",
    "stop_words2=set(list)\n",
    "def words_stop(token_words):\n",
    "        clean_stop = [word for word in token_words if word not in stop_words1]#removing words not in english\n",
    "        clean_stop = [word for word in clean_stop if word not in stop_words2]#removing words abstract\n",
    "        return(clean_stop)"
   ]
  },
  {
   "cell_type": "code",
   "execution_count": 1082,
   "metadata": {},
   "outputs": [],
   "source": [
    "df['clean_stop']=df['token_words'].apply(words_stop)"
   ]
  },
  {
   "cell_type": "markdown",
   "metadata": {},
   "source": [
    "# 3. Exploratory Analysis"
   ]
  },
  {
   "cell_type": "markdown",
   "metadata": {},
   "source": [
    "#### 3.1 Research papers vs published year"
   ]
  },
  {
   "cell_type": "code",
   "execution_count": 1083,
   "metadata": {},
   "outputs": [],
   "source": [
    "pb1=df[(df['publish_time']>='1970') &(df['publish_time']<='1980')]\n",
    "pb2=df[(df['publish_time']>='1981') &(df['publish_time']<='1990')]\n",
    "pb3=df[(df['publish_time']>='1991') &(df['publish_time']<='2000')]\n",
    "pb4=df[(df['publish_time']>='2001') &(df['publish_time']<='2010')]\n",
    "pb5=df[(df['publish_time']>='2011') &(df['publish_time']<='2020')]"
   ]
  },
  {
   "cell_type": "code",
   "execution_count": 1084,
   "metadata": {},
   "outputs": [
    {
     "data": {
      "image/png": "[encoded data removed]",
      "text/plain": [
       "<Figure size 720x360 with 1 Axes>"
      ]
     },
     "metadata": {
      "needs_background": "light"
     },
     "output_type": "display_data"
    }
   ],
   "source": [
    " fig,ax1=plt.subplots(1,1,figsize=(10,5))\n",
    "years=['1970-1980','1981-1990','1991-2000','2001-2010','2011-2020']\n",
    "data=[round(len(pb1)/30853*100,2),round(len(pb2)/30853*100,2),round(len(pb3)/30853*100,2),round(len(pb4)/30853*100,2),round(len(pb5)/30853*100,2)]\n",
    "ax1.bar(years,data)\n",
    "ax1.set_title('Research paper statistics by years in %')\n",
    "ax1.set(xlabel='Years', ylabel='No of articles')\n",
    "for i in range(len(data)):\n",
    "       ax1.annotate(str(data[i]), xy=(years[i],data[i]))"
   ]
  },
  {
   "cell_type": "markdown",
   "metadata": {},
   "source": [
    "It is an important visualization that tells us that most of the papers (71.09%) are from recent years between (2011-2020).<br>\n",
    "It is also significant that almost 95% of papers are of recent 20 years."
   ]
  },
  {
   "cell_type": "markdown",
   "metadata": {},
   "source": [
    "#### 3.2 Searching for papers that are only on COVID-19"
   ]
  },
  {
   "cell_type": "code",
   "execution_count": 984,
   "metadata": {},
   "outputs": [],
   "source": [
    "covid_list=['covid-19','covid','cov','coronavirus','sars','cov-2','corona','2019',' Orthocoronavirinae','coronaviridae','hcov']"
   ]
  },
  {
   "cell_type": "code",
   "execution_count": 985,
   "metadata": {},
   "outputs": [],
   "source": [
    "def covid(x):\n",
    "    list=[]\n",
    "    for word in covid_list:\n",
    "        if word in x:\n",
    "            list.append(word)\n",
    "            return(list)\n",
    "            "
   ]
  },
  {
   "cell_type": "code",
   "execution_count": 986,
   "metadata": {},
   "outputs": [],
   "source": [
    "df['boolean']=df['clean_stop'].apply(covid)"
   ]
  },
  {
   "cell_type": "code",
   "execution_count": 987,
   "metadata": {},
   "outputs": [],
   "source": [
    "sum1=df['boolean'].isnull().sum()\n",
    "sum2=34809-sum1\n",
    "sum=[sum1,sum2]"
   ]
  },
  {
   "cell_type": "code",
   "execution_count": 988,
   "metadata": {},
   "outputs": [
    {
     "data": {
      "image/png": "[encoded data removed]",
      "text/plain": [
       "<Figure size 432x288 with 1 Axes>"
      ]
     },
     "metadata": {},
     "output_type": "display_data"
    }
   ],
   "source": [
    "# Pie chart.\n",
    "paper_titles = ['Others','Covid-19']\n",
    "col = ['#EA6D6A', '#6495ED']\n",
    "patch, text, auto = plt.pie(sum, labels = paper_titles, colors = col, shadow = True, autopct = '%1.1f%%')\n",
    "plt.title('Reserach papers on COVID-19', fontsize = 14, fontweight = 'bold', y = 1.05)\n",
    "for i in range(0, len(auto)): auto[i].set_fontsize(14)\n",
    "\n",
    "plt.axis('equal')\n",
    "plt.show()"
   ]
  },
  {
   "cell_type": "markdown",
   "metadata": {},
   "source": [
    "The covid-19 started in 2019 November that is depicted truly from the plot that less papers are related with covid-19,as much of that research is not yet generated.\n",
    "This also gives an understanding that any insights that are made from the data is mostly based on the viruses that are previous pandemics related, so risk factors obtained from this data may be just approximations to the actual factors of COVID-19"
   ]
  },
  {
   "cell_type": "markdown",
   "metadata": {},
   "source": [
    "#### 3.4 Word cloud to explore posiible risk factors from the cleaned abstract"
   ]
  },
  {
   "cell_type": "code",
   "execution_count": 1085,
   "metadata": {},
   "outputs": [],
   "source": [
    "word_cloud=[]# getting all words from abstract stored in column clean_stop\n",
    "\n",
    "for i in df.index:\n",
    "            b=df['clean_stop'][i]\n",
    "            for word in b:\n",
    "                 word_cloud.append(word)\n",
    "           \n",
    "           "
   ]
  },
  {
   "cell_type": "code",
   "execution_count": 1086,
   "metadata": {},
   "outputs": [],
   "source": [
    "word_cloud_list=pd.Series(word_cloud).str.cat(sep=' ')"
   ]
  },
  {
   "cell_type": "code",
   "execution_count": 1090,
   "metadata": {},
   "outputs": [
    {
     "data": {
      "image/png": "[encoded data removed]",
      "text/plain": [
       "<Figure size 1080x576 with 1 Axes>"
      ]
     },
     "metadata": {
      "needs_background": "light"
     },
     "output_type": "display_data"
    }
   ],
   "source": [
    "wordcloud = WordCloud(width = 500, height = 200,background_color ='black',min_font_size = 5).generate(word_cloud_list) \n",
    "  \n",
    "# plot the WordCloud image                        \n",
    "plt.figure(figsize = (15, 8), facecolor = None) \n",
    "plt.imshow(wordcloud) \n",
    "plt.axis(\"off\") \n",
    "plt.tight_layout(pad = 0) \n",
    "plt.title('Risk_factors search',{'fontsize':45})  \n",
    "plt.show()"
   ]
  },
  {
   "cell_type": "markdown",
   "metadata": {},
   "source": [
    "This exploratory analysis give us a complete visualization of words/features that are  most frequent  symptoms of covid-19.Therefore I decided to use the keyword extraction method to get specific risk_factors from the cleaned abstract."
   ]
  },
  {
   "cell_type": "markdown",
   "metadata": {},
   "source": [
    "# 4.Model Preparation"
   ]
  },
  {
   "cell_type": "markdown",
   "metadata": {},
   "source": [
    "#### 4.1 Finding possible risk factors of COVID-19"
   ]
  },
  {
   "cell_type": "code",
   "execution_count": 926,
   "metadata": {},
   "outputs": [
    {
     "data": {
      "text/html": [
       "<img src=\"https://www.canada.ca/content/dam/phac-aspc/images/services/publications/diseases-conditions/people-high-risk-for-severe-illness-covid-19/coronavirus-factsheet-people-at-high-risk-en-cover.jpg\" width=\"1000\" height=\"20\"/>"
      ],
      "text/plain": [
       "<IPython.core.display.Image object>"
      ]
     },
     "execution_count": 926,
     "metadata": {},
     "output_type": "execute_result"
    }
   ],
   "source": [
    "from IPython.display import Image\n",
    "Image(url='https://www.canada.ca/content/dam/phac-aspc/images/services/publications/diseases-conditions/people-high-risk-for-severe-illness-covid-19/coronavirus-factsheet-people-at-high-risk-en-cover.jpg',width=1000, height=20)\n"
   ]
  },
  {
   "cell_type": "markdown",
   "metadata": {},
   "source": [
    "#### 4.2 Feature Engineering(using keyword extraction)"
   ]
  },
  {
   "cell_type": "code",
   "execution_count": 997,
   "metadata": {},
   "outputs": [],
   "source": [
    "factors=['older','asthma','copd','hepatitis','diabetes','chemotherapy','pregnant','smoking','cancer','hiv','immunocompromised','dialysis']"
   ]
  },
  {
   "cell_type": "code",
   "execution_count": 998,
   "metadata": {},
   "outputs": [
    {
     "name": "stdout",
     "output_type": "stream",
     "text": [
      "{'older': 0, 'asthma': 0, 'copd': 0, 'hepatitis': 0, 'diabetes': 0, 'chemotherapy': 0, 'pregnant': 0, 'smoking': 0, 'cancer': 0, 'hiv': 0, 'immunocompromised': 0, 'dialysis': 0}\n",
      "{'older': 538, 'asthma': 446, 'copd': 171, 'hepatitis': 1993, 'diabetes': 298, 'chemotherapy': 112, 'pregnant': 260, 'smoking': 119, 'cancer': 963, 'hiv': 1255, 'immunocompromised': 307, 'dialysis': 43}\n"
     ]
    },
    {
     "data": {
      "image/png": "[encoded data removed]",
      "text/plain": [
       "<Figure size 1600x640 with 1 Axes>"
      ]
     },
     "metadata": {},
     "output_type": "display_data"
    }
   ],
   "source": [
    "#Lets do some preliminary exploratory data analysis\n",
    "\n",
    "factor_count = dict((factor,0) for factor in factors)\n",
    "\n",
    "print(factor_count)\n",
    "\n",
    "for factor in factor_count:\n",
    "    for abstract in df['clean_stop']:\n",
    "        if str(factor) in abstract:\n",
    "            factor_count[factor] += 1\n",
    "\n",
    "\n",
    "print(factor_count)\n",
    "\n",
    "loc = np.arange(len(factor_count))\n",
    "width = 0.35\n",
    "\n",
    "fig = plt.figure(num=None, constrained_layout=True, figsize=(20, 8), dpi=80, facecolor='w', edgecolor='k')\n",
    "ax = fig.add_axes([0,0,1,1])\n",
    "\n",
    "ax.bar(factor_count.keys(),factor_count.values())\n",
    "ax.set_xticks(loc, tuple(factors))\n",
    "\n",
    "ax.grid(color='#95a5a6', linestyle='--', linewidth=2, axis='y', alpha=0.7)\n",
    "ax.set_ylabel('Number of Papers Mentioning this risk_factors')\n",
    "ax.set_xlabel('Factor')\n",
    "ax.set_title('Visualizing Risk_Factors')\n",
    "plt.show()\n"
   ]
  },
  {
   "cell_type": "markdown",
   "metadata": {},
   "source": [
    "It is observed that Cancer,Hepatitis and HIV are the most important risk factors"
   ]
  },
  {
   "cell_type": "code",
   "execution_count": 999,
   "metadata": {},
   "outputs": [],
   "source": [
    "#Function for searchin risk factors\n",
    "def search_factors(x):\n",
    "             list=[]\n",
    "    # x=highlevel_df.clean4[0]\n",
    "             for s in factors:\n",
    "                         if s in x:\n",
    "                                          \n",
    "                                list.append(s)         \n",
    "             return(list)\n",
    "                   "
   ]
  },
  {
   "cell_type": "code",
   "execution_count": 1000,
   "metadata": {},
   "outputs": [],
   "source": [
    "df['factors']=df['clean_stop'].apply(search_factors)"
   ]
  },
  {
   "cell_type": "markdown",
   "metadata": {},
   "source": [
    "#### 4.3 Stemming the words"
   ]
  },
  {
   "cell_type": "markdown",
   "metadata": {},
   "source": [
    "Stemming and Lemmatization are Text Normalization (or sometimes called Word Normalization) techniques in the field of Natural Language Processing that are used to prepare text, words, and documents for further processing.\n",
    "\n",
    "1.Stemming:\n",
    "\"Stemming is the process of reducing inflection in words to their root forms such as mapping a group of words to the same stem even if the stem itself is not a valid word in the Language.\"& computer program stems word may be called a stemming program, stemming algorithm, or stemmer.\n",
    "Stemming Algorithms:(I use gutenberg corpora for stemming)(faster)\n",
    "PorterStammer or LancasterStammer:PorterStemmer uses Suffix Stripping(Removing suffixes from a word) to produce stems\n",
    "Porter Stemmer.PorterStemmer algorithm does not follow linguistics rather a set of 05 rules for different cases that are applied in (step by step) to generate stems.\n",
    "LancasterStemmer is simple, but heavy stemming due to iterations and over-stemming may occur. Over-stemming causes the stems to be not linguistic, or they may have no meaning.\n",
    "\n",
    "2.Lematization:(wordnet corporus and stop word corporus is needed.(slower) Lemmatization, unlike Stemming, reduces the inflected words properly ensuring that the root word belongs to the language. In Lemmatization root word is called Lemma. A lemma is the canonical form, dictionary form, or citation form of a set of words."
   ]
  },
  {
   "cell_type": "code",
   "execution_count": 1002,
   "metadata": {},
   "outputs": [],
   "source": [
    "\n",
    "def stemmer(clean_words):#to join words\n",
    "          stem_sentence=[]\n",
    "          for word in clean_words:\n",
    "                stem_sentence.append(word)\n",
    "                stem_sentence.append(\" \")\n",
    "          return \"\".join(stem_sentence)"
   ]
  },
  {
   "cell_type": "code",
   "execution_count": 1003,
   "metadata": {},
   "outputs": [],
   "source": [
    "df['cleaned_text']=df['factors'].apply(stemmer)"
   ]
  },
  {
   "cell_type": "code",
   "execution_count": 1036,
   "metadata": {},
   "outputs": [
    {
     "data": {
      "text/plain": [
       "array(['', 'asthma ', 'hepatitis ', 'pregnant ',\n",
       "       'hepatitis diabetes smoking hiv ', 'cancer ', 'older ', 'hiv ',\n",
       "       'smoking ', 'diabetes ', 'copd diabetes ', 'older diabetes ',\n",
       "       'chemotherapy cancer ', 'dialysis ',\n",
       "       'copd hepatitis diabetes smoking ', 'older diabetes cancer ',\n",
       "       'older smoking ', 'asthma diabetes smoking ', 'hepatitis hiv ',\n",
       "       'older copd ', 'copd diabetes smoking ',\n",
       "       'older chemotherapy cancer ', 'copd smoking ', 'older asthma ',\n",
       "       'older hiv ', 'immunocompromised ', 'copd ',\n",
       "       'asthma copd diabetes ', 'diabetes hiv ', 'chemotherapy ',\n",
       "       'older smoking cancer ', 'diabetes cancer hiv ',\n",
       "       'hiv immunocompromised ', 'smoking hiv ', 'asthma copd ',\n",
       "       'cancer hiv ', 'diabetes cancer ', 'hepatitis cancer ',\n",
       "       'hepatitis immunocompromised ', 'diabetes chemotherapy ',\n",
       "       'asthma cancer ', 'asthma smoking ', 'cancer immunocompromised ',\n",
       "       'older immunocompromised ', 'cancer hiv immunocompromised ',\n",
       "       'diabetes smoking ', 'older hepatitis ',\n",
       "       'older asthma copd smoking ', 'hepatitis chemotherapy hiv ',\n",
       "       'pregnant immunocompromised ', 'pregnant cancer ',\n",
       "       'copd immunocompromised dialysis ', 'asthma copd cancer ',\n",
       "       'asthma copd hepatitis chemotherapy pregnant smoking cancer ',\n",
       "       'older dialysis ', 'diabetes dialysis ', 'hepatitis pregnant ',\n",
       "       'older pregnant ', 'hepatitis diabetes pregnant hiv ',\n",
       "       'older cancer dialysis ',\n",
       "       'older copd diabetes cancer immunocompromised dialysis ',\n",
       "       'hepatitis hiv immunocompromised ', 'asthma copd smoking ',\n",
       "       'smoking cancer ', 'asthma diabetes ', 'asthma hepatitis ',\n",
       "       'hepatitis chemotherapy ',\n",
       "       'chemotherapy cancer immunocompromised ',\n",
       "       'chemotherapy immunocompromised ', 'hepatitis diabetes hiv ',\n",
       "       'hepatitis diabetes cancer ', 'older cancer ',\n",
       "       'hepatitis cancer hiv ', 'hepatitis pregnant immunocompromised ',\n",
       "       'smoking immunocompromised ', 'older asthma copd ',\n",
       "       'copd immunocompromised ', 'chemotherapy hiv ',\n",
       "       'asthma copd immunocompromised ', 'pregnant hiv ',\n",
       "       'diabetes pregnant ', 'pregnant dialysis ', 'older hepatitis hiv ',\n",
       "       'asthma immunocompromised ', 'chemotherapy dialysis ',\n",
       "       'asthma smoking cancer ', 'smoking cancer hiv ',\n",
       "       'diabetes immunocompromised ', 'asthma pregnant ',\n",
       "       'diabetes cancer immunocompromised ', 'older diabetes dialysis ',\n",
       "       'asthma chemotherapy ', 'asthma diabetes cancer ',\n",
       "       'hepatitis diabetes ', 'older chemotherapy ',\n",
       "       'chemotherapy hiv immunocompromised ', 'asthma cancer hiv ',\n",
       "       'diabetes smoking cancer ', 'hepatitis diabetes dialysis ',\n",
       "       'older copd smoking ', 'copd smoking cancer ',\n",
       "       'asthma copd smoking cancer '], dtype=object)"
      ]
     },
     "execution_count": 1036,
     "metadata": {},
     "output_type": "execute_result"
    }
   ],
   "source": [
    "df['cleaned_text'].unique()"
   ]
  },
  {
   "cell_type": "markdown",
   "metadata": {},
   "source": [
    "# 5.Model Selection and fitting to data"
   ]
  },
  {
   "cell_type": "markdown",
   "metadata": {},
   "source": [
    "#### 5.1 Feature Extraction-Text"
   ]
  },
  {
   "cell_type": "markdown",
   "metadata": {},
   "source": [
    "\n",
    "A problem with modeling text is that it is messy, and techniques like machine learning algorithms prefer well defined fixed-length inputs and outputs.\n",
    "Machine learning algorithms cannot work with raw text directly; the text must be converted into numbers. Specifically, vectors of numbers.\n",
    "\n",
    "In language processing, the vectors x are derived from textual data, in order to reflect various linguistic properties of the text.This is called feature extraction or feature encoding.\n",
    "\n",
    "Models for Feature Extraction:\n",
    "1.Word Frequency<br>\n",
    "2.TF-IDF\n",
    "\n"
   ]
  },
  {
   "cell_type": "markdown",
   "metadata": {},
   "source": [
    "#### 5.1.1 Bag of words Model"
   ]
  },
  {
   "cell_type": "markdown",
   "metadata": {},
   "source": [
    "\n",
    "A popular and simple method of feature extraction with text data is called the bag-of-words model of text.\n",
    "Bag of Words is a word frequency algorithm that counts how many times a word appears in a document. We can use this counts to implement a model in textual analysis of any documents like news articles."
   ]
  },
  {
   "cell_type": "code",
   "execution_count": 1005,
   "metadata": {},
   "outputs": [],
   "source": [
    "#Bag of words (from sklearn.feature_extraction.text import CountVectorizer)\n",
    "#Bag of words (from sklearn.feature_extraction.text import CountVectorizer)\n",
    "def bag(X):\n",
    "    vectorizer1 = CountVectorizer(max_features =5000)\n",
    "    X1 = vectorizer1.fit_transform(X)\n",
    "    X1_n = normalize(X1)#normalize the obtained feature vectors(features are skills)\n",
    "    z1=pd.DataFrame(X1.toarray(), columns=vectorizer1.get_feature_names())\n",
    "    return(X1_n,z1)"
   ]
  },
  {
   "cell_type": "code",
   "execution_count": 1038,
   "metadata": {},
   "outputs": [
    {
     "data": {
      "text/html": [
       "<div>\n",
       "<style scoped>\n",
       "    .dataframe tbody tr th:only-of-type {\n",
       "        vertical-align: middle;\n",
       "    }\n",
       "\n",
       "    .dataframe tbody tr th {\n",
       "        vertical-align: top;\n",
       "    }\n",
       "\n",
       "    .dataframe thead th {\n",
       "        text-align: right;\n",
       "    }\n",
       "</style>\n",
       "<table border=\"1\" class=\"dataframe\">\n",
       "  <thead>\n",
       "    <tr style=\"text-align: right;\">\n",
       "      <th></th>\n",
       "      <th>asthma</th>\n",
       "      <th>cancer</th>\n",
       "      <th>chemotherapy</th>\n",
       "      <th>copd</th>\n",
       "      <th>diabetes</th>\n",
       "      <th>dialysis</th>\n",
       "      <th>hepatitis</th>\n",
       "      <th>hiv</th>\n",
       "      <th>immunocompromised</th>\n",
       "      <th>older</th>\n",
       "      <th>pregnant</th>\n",
       "      <th>smoking</th>\n",
       "    </tr>\n",
       "  </thead>\n",
       "  <tbody>\n",
       "    <tr>\n",
       "      <th>0</th>\n",
       "      <td>0</td>\n",
       "      <td>0</td>\n",
       "      <td>0</td>\n",
       "      <td>0</td>\n",
       "      <td>0</td>\n",
       "      <td>0</td>\n",
       "      <td>0</td>\n",
       "      <td>0</td>\n",
       "      <td>0</td>\n",
       "      <td>0</td>\n",
       "      <td>0</td>\n",
       "      <td>0</td>\n",
       "    </tr>\n",
       "    <tr>\n",
       "      <th>1</th>\n",
       "      <td>0</td>\n",
       "      <td>0</td>\n",
       "      <td>0</td>\n",
       "      <td>0</td>\n",
       "      <td>0</td>\n",
       "      <td>0</td>\n",
       "      <td>0</td>\n",
       "      <td>0</td>\n",
       "      <td>0</td>\n",
       "      <td>0</td>\n",
       "      <td>0</td>\n",
       "      <td>0</td>\n",
       "    </tr>\n",
       "    <tr>\n",
       "      <th>2</th>\n",
       "      <td>0</td>\n",
       "      <td>0</td>\n",
       "      <td>0</td>\n",
       "      <td>0</td>\n",
       "      <td>0</td>\n",
       "      <td>0</td>\n",
       "      <td>0</td>\n",
       "      <td>0</td>\n",
       "      <td>0</td>\n",
       "      <td>0</td>\n",
       "      <td>0</td>\n",
       "      <td>0</td>\n",
       "    </tr>\n",
       "    <tr>\n",
       "      <th>3</th>\n",
       "      <td>0</td>\n",
       "      <td>0</td>\n",
       "      <td>0</td>\n",
       "      <td>0</td>\n",
       "      <td>0</td>\n",
       "      <td>0</td>\n",
       "      <td>0</td>\n",
       "      <td>0</td>\n",
       "      <td>0</td>\n",
       "      <td>0</td>\n",
       "      <td>0</td>\n",
       "      <td>0</td>\n",
       "    </tr>\n",
       "    <tr>\n",
       "      <th>4</th>\n",
       "      <td>0</td>\n",
       "      <td>0</td>\n",
       "      <td>0</td>\n",
       "      <td>0</td>\n",
       "      <td>0</td>\n",
       "      <td>0</td>\n",
       "      <td>0</td>\n",
       "      <td>0</td>\n",
       "      <td>0</td>\n",
       "      <td>0</td>\n",
       "      <td>0</td>\n",
       "      <td>0</td>\n",
       "    </tr>\n",
       "  </tbody>\n",
       "</table>\n",
       "</div>"
      ],
      "text/plain": [
       "   asthma  cancer  chemotherapy  copd  diabetes  dialysis  hepatitis  hiv  \\\n",
       "0       0       0             0     0         0         0          0    0   \n",
       "1       0       0             0     0         0         0          0    0   \n",
       "2       0       0             0     0         0         0          0    0   \n",
       "3       0       0             0     0         0         0          0    0   \n",
       "4       0       0             0     0         0         0          0    0   \n",
       "\n",
       "   immunocompromised  older  pregnant  smoking  \n",
       "0                  0      0         0        0  \n",
       "1                  0      0         0        0  \n",
       "2                  0      0         0        0  \n",
       "3                  0      0         0        0  \n",
       "4                  0      0         0        0  "
      ]
     },
     "execution_count": 1038,
     "metadata": {},
     "output_type": "execute_result"
    }
   ],
   "source": [
    "X_fdata1=df['cleaned_text']\n",
    "Xh1,zh1=bag(X_fdata1)\n",
    "zh1.head()"
   ]
  },
  {
   "cell_type": "markdown",
   "metadata": {},
   "source": [
    "#### 5.1.2 TF-IDF"
   ]
  },
  {
   "cell_type": "markdown",
   "metadata": {},
   "source": [
    "\n",
    "A problem with scoring word frequency is that highly frequent words start to dominate in the document (e.g. larger score), but may not contain as much “informational content” to the model as rarer but perhaps domain specific words.\n",
    "\n",
    "One approach is to rescale the frequency of words by how often they appear in all documents, so that the scores for frequent words like “the” that are also frequent across all documents are penalized.\n",
    "\n",
    "This approach to scoring is called Term Frequency – Inverse Document Frequency, or TF-IDF where:\n",
    "\n",
    "Term Frequency: is a scoring of the frequency of the word in the current document.\n",
    "Inverse Document Frequency: is a scoring of how rare the word is across documents.\n",
    "The scores are a weighting where not all words are equally as important or interesting.\n",
    "The scores have the effect of highlighting words that are distinct (contain useful information) in a given document.\n",
    "\n"
   ]
  },
  {
   "cell_type": "code",
   "execution_count": 1009,
   "metadata": {},
   "outputs": [],
   "source": [
    "#TF-IDF(from sklearn.feature_extraction.text import TfidfVectorizer\n",
    "def tfidf(X):\n",
    "    vectorizer2 = TfidfVectorizer(use_idf=True, smooth_idf=True, norm=None, max_features=5000)\n",
    "    X2 = vectorizer2.fit_transform(X)\n",
    "    X2_n = normalize(X2)\n",
    "    z2=pd.DataFrame(X2.toarray(), columns=vectorizer2.get_feature_names())\n",
    "    return(X2_n,z2)"
   ]
  },
  {
   "cell_type": "code",
   "execution_count": 1037,
   "metadata": {},
   "outputs": [
    {
     "data": {
      "text/html": [
       "<div>\n",
       "<style scoped>\n",
       "    .dataframe tbody tr th:only-of-type {\n",
       "        vertical-align: middle;\n",
       "    }\n",
       "\n",
       "    .dataframe tbody tr th {\n",
       "        vertical-align: top;\n",
       "    }\n",
       "\n",
       "    .dataframe thead th {\n",
       "        text-align: right;\n",
       "    }\n",
       "</style>\n",
       "<table border=\"1\" class=\"dataframe\">\n",
       "  <thead>\n",
       "    <tr style=\"text-align: right;\">\n",
       "      <th></th>\n",
       "      <th>asthma</th>\n",
       "      <th>cancer</th>\n",
       "      <th>chemotherapy</th>\n",
       "      <th>copd</th>\n",
       "      <th>diabetes</th>\n",
       "      <th>dialysis</th>\n",
       "      <th>hepatitis</th>\n",
       "      <th>hiv</th>\n",
       "      <th>immunocompromised</th>\n",
       "      <th>older</th>\n",
       "      <th>pregnant</th>\n",
       "      <th>smoking</th>\n",
       "    </tr>\n",
       "  </thead>\n",
       "  <tbody>\n",
       "    <tr>\n",
       "      <th>0</th>\n",
       "      <td>0.0</td>\n",
       "      <td>0.0</td>\n",
       "      <td>0.0</td>\n",
       "      <td>0.0</td>\n",
       "      <td>0.0</td>\n",
       "      <td>0.0</td>\n",
       "      <td>0.0</td>\n",
       "      <td>0.0</td>\n",
       "      <td>0.0</td>\n",
       "      <td>0.0</td>\n",
       "      <td>0.0</td>\n",
       "      <td>0.0</td>\n",
       "    </tr>\n",
       "    <tr>\n",
       "      <th>1</th>\n",
       "      <td>0.0</td>\n",
       "      <td>0.0</td>\n",
       "      <td>0.0</td>\n",
       "      <td>0.0</td>\n",
       "      <td>0.0</td>\n",
       "      <td>0.0</td>\n",
       "      <td>0.0</td>\n",
       "      <td>0.0</td>\n",
       "      <td>0.0</td>\n",
       "      <td>0.0</td>\n",
       "      <td>0.0</td>\n",
       "      <td>0.0</td>\n",
       "    </tr>\n",
       "    <tr>\n",
       "      <th>2</th>\n",
       "      <td>0.0</td>\n",
       "      <td>0.0</td>\n",
       "      <td>0.0</td>\n",
       "      <td>0.0</td>\n",
       "      <td>0.0</td>\n",
       "      <td>0.0</td>\n",
       "      <td>0.0</td>\n",
       "      <td>0.0</td>\n",
       "      <td>0.0</td>\n",
       "      <td>0.0</td>\n",
       "      <td>0.0</td>\n",
       "      <td>0.0</td>\n",
       "    </tr>\n",
       "    <tr>\n",
       "      <th>3</th>\n",
       "      <td>0.0</td>\n",
       "      <td>0.0</td>\n",
       "      <td>0.0</td>\n",
       "      <td>0.0</td>\n",
       "      <td>0.0</td>\n",
       "      <td>0.0</td>\n",
       "      <td>0.0</td>\n",
       "      <td>0.0</td>\n",
       "      <td>0.0</td>\n",
       "      <td>0.0</td>\n",
       "      <td>0.0</td>\n",
       "      <td>0.0</td>\n",
       "    </tr>\n",
       "    <tr>\n",
       "      <th>4</th>\n",
       "      <td>0.0</td>\n",
       "      <td>0.0</td>\n",
       "      <td>0.0</td>\n",
       "      <td>0.0</td>\n",
       "      <td>0.0</td>\n",
       "      <td>0.0</td>\n",
       "      <td>0.0</td>\n",
       "      <td>0.0</td>\n",
       "      <td>0.0</td>\n",
       "      <td>0.0</td>\n",
       "      <td>0.0</td>\n",
       "      <td>0.0</td>\n",
       "    </tr>\n",
       "  </tbody>\n",
       "</table>\n",
       "</div>"
      ],
      "text/plain": [
       "   asthma  cancer  chemotherapy  copd  diabetes  dialysis  hepatitis  hiv  \\\n",
       "0     0.0     0.0           0.0   0.0       0.0       0.0        0.0  0.0   \n",
       "1     0.0     0.0           0.0   0.0       0.0       0.0        0.0  0.0   \n",
       "2     0.0     0.0           0.0   0.0       0.0       0.0        0.0  0.0   \n",
       "3     0.0     0.0           0.0   0.0       0.0       0.0        0.0  0.0   \n",
       "4     0.0     0.0           0.0   0.0       0.0       0.0        0.0  0.0   \n",
       "\n",
       "   immunocompromised  older  pregnant  smoking  \n",
       "0                0.0    0.0       0.0      0.0  \n",
       "1                0.0    0.0       0.0      0.0  \n",
       "2                0.0    0.0       0.0      0.0  \n",
       "3                0.0    0.0       0.0      0.0  \n",
       "4                0.0    0.0       0.0      0.0  "
      ]
     },
     "execution_count": 1037,
     "metadata": {},
     "output_type": "execute_result"
    }
   ],
   "source": [
    "#TF-IDF\n",
    "Xh2,zh2=tfidf(X_fdata1)\n",
    "zh2.head()"
   ]
  },
  {
   "cell_type": "markdown",
   "metadata": {},
   "source": [
    "#### 5.1.3 Neural Methods "
   ]
  },
  {
   "cell_type": "markdown",
   "metadata": {},
   "source": [
    "\n",
    "1.Word2Vec is the first neural embedding model<br>\n",
    "a.One-word context<br>\n",
    "c.Skip-gram model<br>\n",
    "2.GloVe (Glove: Global Vectors for Word Representation)<br>\n",
    "3.FastText (Enriching Word Vectors with Subword Information)<br>\n",
    "4.Poincaré embeddings (Poincaré Embeddings for Learning Hierarchical Representations)<br>"
   ]
  },
  {
   "cell_type": "markdown",
   "metadata": {},
   "source": [
    "#### Method used: Word2Vec"
   ]
  },
  {
   "cell_type": "code",
   "execution_count": 1011,
   "metadata": {},
   "outputs": [],
   "source": [
    "#word2vec generates vector for each word. \n",
    "#Hence we avgerage the vectors of all words in a sentance to 1 vector that represents entire sentance\n",
    "\n",
    "def buildWordVector(text, size):\n",
    "    \n",
    "    vec = np.zeros(size).reshape((1, size))\n",
    "    count = 0.\n",
    "    if text=='':\n",
    "        vec=vec\n",
    "    else:\n",
    "        text = text.split(' ')\n",
    "        text=text[:-1]\n",
    "       \n",
    "        for word in text:\n",
    "            \n",
    "           \n",
    "            vec += model[word].reshape((1, size))\n",
    "            count += 1.\n",
    "        if count != 0:\n",
    "            vec /= count\n",
    "            \n",
    "    return vec"
   ]
  },
  {
   "cell_type": "code",
   "execution_count": 1012,
   "metadata": {},
   "outputs": [],
   "source": [
    "# we need to pass splitted sentences to the model\n",
    "tokenized_sentences = [sentence.split() for sentence in df['cleaned_text']]\n",
    "model = word2vec.Word2Vec(tokenized_sentences,size=100, min_count=1)\n",
    "#applying word2vec for generic tweets data set\n",
    "X4 = np.concatenate([buildWordVector(z, 100) for z in df['cleaned_text']])"
   ]
  },
  {
   "cell_type": "code",
   "execution_count": 1059,
   "metadata": {},
   "outputs": [
    {
     "data": {
      "text/html": [
       "<div>\n",
       "<style scoped>\n",
       "    .dataframe tbody tr th:only-of-type {\n",
       "        vertical-align: middle;\n",
       "    }\n",
       "\n",
       "    .dataframe tbody tr th {\n",
       "        vertical-align: top;\n",
       "    }\n",
       "\n",
       "    .dataframe thead th {\n",
       "        text-align: right;\n",
       "    }\n",
       "</style>\n",
       "<table border=\"1\" class=\"dataframe\">\n",
       "  <thead>\n",
       "    <tr style=\"text-align: right;\">\n",
       "      <th></th>\n",
       "      <th>0</th>\n",
       "      <th>1</th>\n",
       "      <th>2</th>\n",
       "      <th>3</th>\n",
       "      <th>4</th>\n",
       "      <th>5</th>\n",
       "      <th>6</th>\n",
       "      <th>7</th>\n",
       "      <th>8</th>\n",
       "      <th>9</th>\n",
       "      <th>...</th>\n",
       "      <th>90</th>\n",
       "      <th>91</th>\n",
       "      <th>92</th>\n",
       "      <th>93</th>\n",
       "      <th>94</th>\n",
       "      <th>95</th>\n",
       "      <th>96</th>\n",
       "      <th>97</th>\n",
       "      <th>98</th>\n",
       "      <th>99</th>\n",
       "    </tr>\n",
       "  </thead>\n",
       "  <tbody>\n",
       "    <tr>\n",
       "      <th>0</th>\n",
       "      <td>0.0</td>\n",
       "      <td>1.0</td>\n",
       "      <td>1.0</td>\n",
       "      <td>1.0</td>\n",
       "      <td>1.0</td>\n",
       "      <td>1.0</td>\n",
       "      <td>1.0</td>\n",
       "      <td>1.0</td>\n",
       "      <td>1.0</td>\n",
       "      <td>1.0</td>\n",
       "      <td>...</td>\n",
       "      <td>10.0</td>\n",
       "      <td>10.0</td>\n",
       "      <td>10.0</td>\n",
       "      <td>10.0</td>\n",
       "      <td>10.0</td>\n",
       "      <td>10.0</td>\n",
       "      <td>10.0</td>\n",
       "      <td>10.0</td>\n",
       "      <td>10.0</td>\n",
       "      <td>10.0</td>\n",
       "    </tr>\n",
       "    <tr>\n",
       "      <th>1</th>\n",
       "      <td>0.0</td>\n",
       "      <td>1.0</td>\n",
       "      <td>1.0</td>\n",
       "      <td>1.0</td>\n",
       "      <td>1.0</td>\n",
       "      <td>1.0</td>\n",
       "      <td>1.0</td>\n",
       "      <td>1.0</td>\n",
       "      <td>1.0</td>\n",
       "      <td>1.0</td>\n",
       "      <td>...</td>\n",
       "      <td>10.0</td>\n",
       "      <td>10.0</td>\n",
       "      <td>10.0</td>\n",
       "      <td>10.0</td>\n",
       "      <td>10.0</td>\n",
       "      <td>10.0</td>\n",
       "      <td>10.0</td>\n",
       "      <td>10.0</td>\n",
       "      <td>10.0</td>\n",
       "      <td>10.0</td>\n",
       "    </tr>\n",
       "    <tr>\n",
       "      <th>2</th>\n",
       "      <td>0.0</td>\n",
       "      <td>1.0</td>\n",
       "      <td>1.0</td>\n",
       "      <td>1.0</td>\n",
       "      <td>1.0</td>\n",
       "      <td>1.0</td>\n",
       "      <td>1.0</td>\n",
       "      <td>1.0</td>\n",
       "      <td>1.0</td>\n",
       "      <td>1.0</td>\n",
       "      <td>...</td>\n",
       "      <td>10.0</td>\n",
       "      <td>10.0</td>\n",
       "      <td>10.0</td>\n",
       "      <td>10.0</td>\n",
       "      <td>10.0</td>\n",
       "      <td>10.0</td>\n",
       "      <td>10.0</td>\n",
       "      <td>10.0</td>\n",
       "      <td>10.0</td>\n",
       "      <td>10.0</td>\n",
       "    </tr>\n",
       "    <tr>\n",
       "      <th>3</th>\n",
       "      <td>0.0</td>\n",
       "      <td>1.0</td>\n",
       "      <td>1.0</td>\n",
       "      <td>1.0</td>\n",
       "      <td>1.0</td>\n",
       "      <td>1.0</td>\n",
       "      <td>1.0</td>\n",
       "      <td>1.0</td>\n",
       "      <td>1.0</td>\n",
       "      <td>1.0</td>\n",
       "      <td>...</td>\n",
       "      <td>10.0</td>\n",
       "      <td>10.0</td>\n",
       "      <td>10.0</td>\n",
       "      <td>10.0</td>\n",
       "      <td>10.0</td>\n",
       "      <td>10.0</td>\n",
       "      <td>10.0</td>\n",
       "      <td>10.0</td>\n",
       "      <td>10.0</td>\n",
       "      <td>10.0</td>\n",
       "    </tr>\n",
       "    <tr>\n",
       "      <th>4</th>\n",
       "      <td>0.0</td>\n",
       "      <td>1.0</td>\n",
       "      <td>1.0</td>\n",
       "      <td>1.0</td>\n",
       "      <td>1.0</td>\n",
       "      <td>1.0</td>\n",
       "      <td>1.0</td>\n",
       "      <td>1.0</td>\n",
       "      <td>1.0</td>\n",
       "      <td>1.0</td>\n",
       "      <td>...</td>\n",
       "      <td>10.0</td>\n",
       "      <td>10.0</td>\n",
       "      <td>10.0</td>\n",
       "      <td>10.0</td>\n",
       "      <td>10.0</td>\n",
       "      <td>10.0</td>\n",
       "      <td>10.0</td>\n",
       "      <td>10.0</td>\n",
       "      <td>10.0</td>\n",
       "      <td>10.0</td>\n",
       "    </tr>\n",
       "  </tbody>\n",
       "</table>\n",
       "<p>5 rows × 100 columns</p>\n",
       "</div>"
      ],
      "text/plain": [
       "    0    1    2    3    4    5    6    7    8    9   ...     90    91    92  \\\n",
       "0  0.0  1.0  1.0  1.0  1.0  1.0  1.0  1.0  1.0  1.0  ...   10.0  10.0  10.0   \n",
       "1  0.0  1.0  1.0  1.0  1.0  1.0  1.0  1.0  1.0  1.0  ...   10.0  10.0  10.0   \n",
       "2  0.0  1.0  1.0  1.0  1.0  1.0  1.0  1.0  1.0  1.0  ...   10.0  10.0  10.0   \n",
       "3  0.0  1.0  1.0  1.0  1.0  1.0  1.0  1.0  1.0  1.0  ...   10.0  10.0  10.0   \n",
       "4  0.0  1.0  1.0  1.0  1.0  1.0  1.0  1.0  1.0  1.0  ...   10.0  10.0  10.0   \n",
       "\n",
       "     93    94    95    96    97    98    99  \n",
       "0  10.0  10.0  10.0  10.0  10.0  10.0  10.0  \n",
       "1  10.0  10.0  10.0  10.0  10.0  10.0  10.0  \n",
       "2  10.0  10.0  10.0  10.0  10.0  10.0  10.0  \n",
       "3  10.0  10.0  10.0  10.0  10.0  10.0  10.0  \n",
       "4  10.0  10.0  10.0  10.0  10.0  10.0  10.0  \n",
       "\n",
       "[5 rows x 100 columns]"
      ]
     },
     "execution_count": 1059,
     "metadata": {},
     "output_type": "execute_result"
    }
   ],
   "source": [
    "zh3=pd.DataFrame(X4)\n",
    "zh3.head()"
   ]
  },
  {
   "cell_type": "markdown",
   "metadata": {},
   "source": [
    "#### 5.1.4 Okapi BM25"
   ]
  },
  {
   "cell_type": "markdown",
   "metadata": {},
   "source": [
    "BM25 is a bag-of-words retrieval function that ranks a set of documents based on the query terms appearing in each document, regardless of their proximity within the document."
   ]
  },
  {
   "cell_type": "code",
   "execution_count": 1014,
   "metadata": {},
   "outputs": [
    {
     "name": "stdout",
     "output_type": "stream",
     "text": [
      "Requirement already satisfied: rank_bm25 in c:\\users\\begum\\anaconda3\\lib\\site-packages (0.2)\n",
      "Requirement already satisfied: numpy in c:\\users\\begum\\anaconda3\\lib\\site-packages (from rank_bm25) (1.15.4)\n"
     ]
    }
   ],
   "source": [
    "!pip install rank_bm25"
   ]
  },
  {
   "cell_type": "code",
   "execution_count": 1019,
   "metadata": {},
   "outputs": [],
   "source": [
    "from rank_bm25 import BM25Okapi\n",
    "\n",
    "\n",
    "\n",
    "corpus =factors\n",
    "\n",
    "bm25 = BM25Okapi(corpus)\n",
    "# <rank_bm25.BM25Okapi at 0x1047881d0>"
   ]
  },
  {
   "cell_type": "code",
   "execution_count": 1020,
   "metadata": {},
   "outputs": [],
   "source": [
    "\n",
    "def bm(x):\n",
    "    tokenized_query=x\n",
    "    doc_scores = bm25.get_scores(tokenized_query)\n",
    "   \n",
    "    \n",
    "    return(doc_scores)"
   ]
  },
  {
   "cell_type": "code",
   "execution_count": 1021,
   "metadata": {},
   "outputs": [],
   "source": [
    "Xbm =[bm(z) for z in df['factors']]"
   ]
  },
  {
   "cell_type": "code",
   "execution_count": 1022,
   "metadata": {},
   "outputs": [
    {
     "data": {
      "text/plain": [
       "['dialysis',\n",
       " 'immunocompromised',\n",
       " 'hiv',\n",
       " 'cancer',\n",
       " 'smoking',\n",
       " 'pregnant',\n",
       " 'chemotherapy',\n",
       " 'diabetes',\n",
       " 'hepatitis',\n",
       " 'copd']"
      ]
     },
     "execution_count": 1022,
     "metadata": {},
     "output_type": "execute_result"
    }
   ],
   "source": [
    "bm25.get_top_n(tokenized_query,corpus, n=10)\n",
    "\n"
   ]
  },
  {
   "cell_type": "code",
   "execution_count": 1042,
   "metadata": {},
   "outputs": [
    {
     "data": {
      "text/html": [
       "<div>\n",
       "<style scoped>\n",
       "    .dataframe tbody tr th:only-of-type {\n",
       "        vertical-align: middle;\n",
       "    }\n",
       "\n",
       "    .dataframe tbody tr th {\n",
       "        vertical-align: top;\n",
       "    }\n",
       "\n",
       "    .dataframe thead th {\n",
       "        text-align: right;\n",
       "    }\n",
       "</style>\n",
       "<table border=\"1\" class=\"dataframe\">\n",
       "  <thead>\n",
       "    <tr style=\"text-align: right;\">\n",
       "      <th></th>\n",
       "      <th>0</th>\n",
       "      <th>1</th>\n",
       "      <th>2</th>\n",
       "      <th>3</th>\n",
       "      <th>4</th>\n",
       "      <th>5</th>\n",
       "      <th>6</th>\n",
       "      <th>7</th>\n",
       "      <th>8</th>\n",
       "      <th>9</th>\n",
       "      <th>10</th>\n",
       "      <th>11</th>\n",
       "    </tr>\n",
       "  </thead>\n",
       "  <tbody>\n",
       "    <tr>\n",
       "      <th>0</th>\n",
       "      <td>0.0</td>\n",
       "      <td>0.0</td>\n",
       "      <td>0.0</td>\n",
       "      <td>0.0</td>\n",
       "      <td>0.0</td>\n",
       "      <td>0.0</td>\n",
       "      <td>0.0</td>\n",
       "      <td>0.0</td>\n",
       "      <td>0.0</td>\n",
       "      <td>0.0</td>\n",
       "      <td>0.0</td>\n",
       "      <td>0.0</td>\n",
       "    </tr>\n",
       "    <tr>\n",
       "      <th>1</th>\n",
       "      <td>0.0</td>\n",
       "      <td>0.0</td>\n",
       "      <td>0.0</td>\n",
       "      <td>0.0</td>\n",
       "      <td>0.0</td>\n",
       "      <td>0.0</td>\n",
       "      <td>0.0</td>\n",
       "      <td>0.0</td>\n",
       "      <td>0.0</td>\n",
       "      <td>0.0</td>\n",
       "      <td>0.0</td>\n",
       "      <td>0.0</td>\n",
       "    </tr>\n",
       "    <tr>\n",
       "      <th>2</th>\n",
       "      <td>0.0</td>\n",
       "      <td>0.0</td>\n",
       "      <td>0.0</td>\n",
       "      <td>0.0</td>\n",
       "      <td>0.0</td>\n",
       "      <td>0.0</td>\n",
       "      <td>0.0</td>\n",
       "      <td>0.0</td>\n",
       "      <td>0.0</td>\n",
       "      <td>0.0</td>\n",
       "      <td>0.0</td>\n",
       "      <td>0.0</td>\n",
       "    </tr>\n",
       "    <tr>\n",
       "      <th>3</th>\n",
       "      <td>0.0</td>\n",
       "      <td>0.0</td>\n",
       "      <td>0.0</td>\n",
       "      <td>0.0</td>\n",
       "      <td>0.0</td>\n",
       "      <td>0.0</td>\n",
       "      <td>0.0</td>\n",
       "      <td>0.0</td>\n",
       "      <td>0.0</td>\n",
       "      <td>0.0</td>\n",
       "      <td>0.0</td>\n",
       "      <td>0.0</td>\n",
       "    </tr>\n",
       "    <tr>\n",
       "      <th>4</th>\n",
       "      <td>0.0</td>\n",
       "      <td>0.0</td>\n",
       "      <td>0.0</td>\n",
       "      <td>0.0</td>\n",
       "      <td>0.0</td>\n",
       "      <td>0.0</td>\n",
       "      <td>0.0</td>\n",
       "      <td>0.0</td>\n",
       "      <td>0.0</td>\n",
       "      <td>0.0</td>\n",
       "      <td>0.0</td>\n",
       "      <td>0.0</td>\n",
       "    </tr>\n",
       "  </tbody>\n",
       "</table>\n",
       "</div>"
      ],
      "text/plain": [
       "    0    1    2    3    4    5    6    7    8    9    10   11\n",
       "0  0.0  0.0  0.0  0.0  0.0  0.0  0.0  0.0  0.0  0.0  0.0  0.0\n",
       "1  0.0  0.0  0.0  0.0  0.0  0.0  0.0  0.0  0.0  0.0  0.0  0.0\n",
       "2  0.0  0.0  0.0  0.0  0.0  0.0  0.0  0.0  0.0  0.0  0.0  0.0\n",
       "3  0.0  0.0  0.0  0.0  0.0  0.0  0.0  0.0  0.0  0.0  0.0  0.0\n",
       "4  0.0  0.0  0.0  0.0  0.0  0.0  0.0  0.0  0.0  0.0  0.0  0.0"
      ]
     },
     "execution_count": 1042,
     "metadata": {},
     "output_type": "execute_result"
    }
   ],
   "source": [
    "zh4=pd.DataFrame(Xbm)\n",
    "zh4.head()"
   ]
  },
  {
   "cell_type": "markdown",
   "metadata": {},
   "source": [
    "# 6. Results"
   ]
  },
  {
   "cell_type": "markdown",
   "metadata": {},
   "source": [
    "Only top 10 are considered in the analysis and asthma is excluded because it is similar to COPD. and we can see from bm25 model the listed top 10 risk factors\n",
    "\n",
    "\n",
    "From the obtained matrices of the 4 models we analysed the values that support the hierarchial clustering are from two model so implementing them."
   ]
  },
  {
   "cell_type": "markdown",
   "metadata": {},
   "source": [
    "#### 6.1 Hierarchial Clustering of  Risk Factors-(model-1)-Bag of words"
   ]
  },
  {
   "cell_type": "code",
   "execution_count": 1055,
   "metadata": {},
   "outputs": [],
   "source": [
    "def hc(x):\n",
    "#OUTPUT# \n",
    "            df_final1 =x\n",
    "            # get the list of Fcator names\n",
    "            factors_list = df_final1.columns.values\n",
    "            df_final2=df_final1\n",
    "            for i in df_final2.columns:\n",
    "                df_final2[i] = df_final1[i].apply(lambda x: 1 if (x !=0) else x)\n",
    "            for i in df_final2.columns:\n",
    "                df_final2[i] = df_final1[i].apply(lambda x: 10 if x ==0 else x)\n",
    "            for i in df_final2.columns:\n",
    "                df_final2[i] = df_final1[i].apply(lambda x: 0 if x ==1 else x)\n",
    "            for i in df_final2.columns:\n",
    "                df_final2[i] = df_final1[i].apply(lambda x: 1 if x ==10 else x)\n",
    "            df4=np.sum(df_final2,axis=0)\n",
    "            df4=df4.sort_values()\n",
    "            dff=pd.DataFrame(df4)\n",
    "            dff.columns=[\"count\"]\n",
    "            dff.sort_values(by=\"count\")\n",
    "            from scipy import zeros as sci_zeros\n",
    "            # empty matrix is fill\n",
    "            D = sci_zeros([dff.size,dff.size])\n",
    "\n",
    "            # Find all element wise temp differences\n",
    "            for i in range(dff.size):\n",
    "                for j in range(dff.size):\n",
    "                    D[i,j] = abs(np.array(dff)[i]-np.array(dff)[j])\n",
    "                    #Hierarchical Clustering\n",
    "            title = 'Risk_factors Clustering'\n",
    "            fig_height=12\n",
    "            label_size=14\n",
    "            Y = sch.linkage(D, method='ward')\n",
    "            l=dff.index\n",
    "\n",
    "            fig = plt.figure(figsize=(20,fig_height))\n",
    "            ax1 = fig.add_axes([0.1,0.1,0.4,0.6])\n",
    "\n",
    "            Z1 = sch.dendrogram(Y, orientation='right', truncate_mode='lastp',p=15,color_threshold=80)\n",
    "            labels = l\n",
    "\n",
    "            ax1.set_xticks([])\n",
    "            ax1.set_yticklabels(labels, fontsize=label_size)\n",
    "\n",
    "            ax1.set_title(title)\n",
    "            # ax1.axis('off')\n",
    "            plt.axvline(x=200, color='r', linestyle='--')\n",
    "\n",
    "            plt.show() # supress prints\n",
    "            return()"
   ]
  },
  {
   "cell_type": "code",
   "execution_count": 1056,
   "metadata": {},
   "outputs": [
    {
     "data": {
      "image/png": "[encoded data removed]",
      "text/plain": [
       "<Figure size 1440x864 with 1 Axes>"
      ]
     },
     "metadata": {
      "needs_background": "light"
     },
     "output_type": "display_data"
    },
    {
     "data": {
      "text/plain": [
       "()"
      ]
     },
     "execution_count": 1056,
     "metadata": {},
     "output_type": "execute_result"
    }
   ],
   "source": [
    "hc(zh1.iloc[:, 1:])"
   ]
  },
  {
   "cell_type": "markdown",
   "metadata": {},
   "source": [
    "It is observed that clusters that are formed in this is\n",
    "Are not coherent and cannot be used as cluster groups as they are based on occurrences \n",
    "so no relation ship is formed\n"
   ]
  },
  {
   "cell_type": "markdown",
   "metadata": {},
   "source": [
    "#### 6.2 Hierarchial Clustering of  Risk Factors-(model-2)-TF-IDF"
   ]
  },
  {
   "cell_type": "code",
   "execution_count": 1057,
   "metadata": {},
   "outputs": [
    {
     "data": {
      "image/png": "[encoded data removed]",
      "text/plain": [
       "<Figure size 1440x864 with 1 Axes>"
      ]
     },
     "metadata": {
      "needs_background": "light"
     },
     "output_type": "display_data"
    },
    {
     "data": {
      "text/plain": [
       "()"
      ]
     },
     "execution_count": 1057,
     "metadata": {},
     "output_type": "execute_result"
    }
   ],
   "source": [
    "hc(zh2.iloc[:, 1:])"
   ]
  },
  {
   "cell_type": "markdown",
   "metadata": {},
   "source": [
    "# 7. Model Insights"
   ]
  },
  {
   "cell_type": "markdown",
   "metadata": {},
   "source": [
    "The model with TF-IDF gives us a better clustering results from which we can have some insights about the risk Factors of COVID-19.<br>\n",
    "The most significant risk_factors that are severe for COVID-19 patients are chronic diseases like HIV ,Hepatitis and        cancer.<br> \n",
    "\n",
    "HIV (human immunodeficiency virus) is a virus that attacks the immune system, the body's natural defence system. Without a  strong immune system, the body has trouble fighting off disease. Both the virus and the infection it causes are called HIV.<br> \n",
    "\n",
    "Hepatitis refers to an inflammatory condition of the liver. It's commonly caused by a viral infection, but there are other  possible causes of hepatitis. These include autoimmune hepatitis and hepatitis that occurs as a secondary result of          medications, drugs, toxins, and alcohol.<br>\n",
    "\n",
    "Cancer is a group of diseases involving abnormal cell growth with the potential to invade or spread to other parts of the body.<br>"
   ]
  },
  {
   "cell_type": "markdown",
   "metadata": {},
   "source": [
    "\n",
    "\n",
    "\n",
    "The second group of chronic diseases that make COVID-19 patients more severe older adults and immunocompromised.\n",
    "Patients who are immunocompromised have a reduced ability to fight infections and other diseases. This may be caused by certain diseases or conditions, such as AIDS, cancer, diabetes. It may also be caused by certain medicines or treatments, such as anticancer drugs, chemotherapy. Also called immunosuppressed.<br>\n",
    "The patients which are older adults mostly have less immunity beacuse of many health conditions and other diseases.\n"
   ]
  },
  {
   "cell_type": "markdown",
   "metadata": {},
   "source": [
    "The third important group that are risk factors are COPD and smoking these are both realted to persons respiratory system.\n",
    "Chronic obstructive pulmonary disease (COPD) is a type of obstructive lung disease characterized by long-term breathing problems and poor airflow.<br>\n",
    "Smoking also lowers the response to some medication and contributes to chronic diseases such as ischaemic heart disease and hypertension.<br>\n",
    "Diabetes also is clustered with older adults because risk of type 2 diabetes increases as we get older, especially after    age 45. That is probably because people tend to exercise less, lose muscle mass and gain weight as they age.               \n",
    "Pregnant women can be immunosuppressd and can get diabetes but older adults is not related in this cluster.                "
   ]
  },
  {
   "cell_type": "markdown",
   "metadata": {},
   "source": [
    "The fourth important group is chemotherapy and dialysis which are both treatments performed when people have chronic diseases related to  cancer and liver disease.Therefor this cluster is connected to first cluster with cancer."
   ]
  },
  {
   "attachments": {
    "image.png": {
     "image/png": "[encoded data removed]"
    }
   },
   "cell_type": "markdown",
   "metadata": {},
   "source": [
    "![image.png](attachment:image.png)"
   ]
  },
  {
   "cell_type": "markdown",
   "metadata": {},
   "source": [
    "# 7. Recommendations"
   ]
  },
  {
   "cell_type": "code",
   "execution_count": 1,
   "metadata": {},
   "outputs": [
    {
     "data": {
      "text/plain": [
       "True"
      ]
     },
     "execution_count": 1,
     "metadata": {},
     "output_type": "execute_result"
    }
   ],
   "source": [
    "import webbrowser\n",
    "webbrowser.open('https://globalnews.ca/news/6747664/coronavirus-age-risk-disease-severity-covid/', new=2)\n"
   ]
  },
  {
   "cell_type": "markdown",
   "metadata": {},
   "source": [
    "From the above news report our analysis is verified and it is recommended to take measures and look for patients medical history when they\n",
    "come for tests for COVID-19.Based on the risk fcatores they should be evaluation giving them the chance of severity in their cases,\n",
    "Using this list the patients who are having diseases like cancer,hepatitis and HIV should be advised to take extra measures durin their isolation period \n",
    "and also in the mean time their results arrive.\n",
    "\n",
    "This assessment done during the testing will also be helpul for the health care systems to predict an average number of \n",
    "health care demanded in future if those patients get sick.\n",
    "These patients if are treated properly ,early based on their severity may help flatten the curve, as in Italy only 2% of people who died\n",
    "had no ailments rest had one or more chronic diseases.\n",
    "In statistics Italy is not a small sample and has high number contribution to deaths so can reflect for the whole population."
   ]
  },
  {
   "cell_type": "code",
   "execution_count": null,
   "metadata": {},
   "outputs": [],
   "source": []
  }
 ],
 "metadata": {
  "kernelspec": {
   "display_name": "Python 3",
   "language": "python",
   "name": "python3"
  },
  "language_info": {
   "codemirror_mode": {
    "name": "ipython",
    "version": 3
   },
   "file_extension": ".py",
   "mimetype": "text/x-python",
   "name": "python",
   "nbconvert_exporter": "python",
   "pygments_lexer": "ipython3",
   "version": "3.7.1"
  }
 },
 "nbformat": 4,
 "nbformat_minor": 2
}
